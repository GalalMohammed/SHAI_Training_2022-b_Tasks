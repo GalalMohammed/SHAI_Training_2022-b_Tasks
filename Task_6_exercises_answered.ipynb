{
  "cells": [
    {
      "cell_type": "markdown",
      "metadata": {
        "id": "view-in-github",
        "colab_type": "text"
      },
      "source": [
        "<a href=\"https://colab.research.google.com/github/GalalMohammed/SHAI_Training_2022-b_Tasks/blob/main/Task_6_exercises_answered.ipynb\" target=\"_parent\"><img src=\"https://colab.research.google.com/assets/colab-badge.svg\" alt=\"Open In Colab\"/></a>"
      ]
    },
    {
      "cell_type": "markdown",
      "metadata": {
        "id": "uua1wvw7iQB4"
      },
      "source": [
        "![](logo1.jpg)"
      ]
    },
    {
      "cell_type": "markdown",
      "metadata": {
        "id": "IMnWC3LuifEi"
      },
      "source": [
        "# **shAI Training 2021 | Level 1**\n",
        "\n",
        "## Task #6 (End-to-End ML Project {part_2})"
      ]
    },
    {
      "cell_type": "markdown",
      "metadata": {
        "id": "1rbe_ZnKi-uY"
      },
      "source": [
        "## Welcome to the exercises for reviewing second part of end to end ML project.\n",
        "**Make sure that you read and understand ch2 from the hands-on ML book (page 72 to the end of the chapter ) before start with this notebook.**\n",
        "\n",
        "**If you stuck with anything reread that part from the book and feel free to ask about anything in the messenger group as you go along.**\n",
        "\n",
        " ## Good Luck : )"
      ]
    },
    {
      "cell_type": "markdown",
      "metadata": {
        "id": "zAbRZ0fwfOb4"
      },
      "source": [
        "## first run the following cell for the first part of the project to continue your work "
      ]
    },
    {
      "cell_type": "code",
      "execution_count": null,
      "metadata": {
        "id": "Q3v160SJfL7U"
      },
      "outputs": [],
      "source": [
        "import numpy as np\n",
        "import pandas as pd\n",
        "import matplotlib.pyplot as plt\n",
        "%matplotlib inline \n",
        "import seaborn as sns\n",
        "from sklearn.model_selection import train_test_split\n",
        "from pandas.plotting import scatter_matrix\n",
        "from sklearn.impute import SimpleImputer\n",
        "from sklearn.preprocessing import OneHotEncoder\n",
        "from sklearn.base import BaseEstimator, TransformerMixin\n",
        "from sklearn.pipeline import Pipeline\n",
        "from sklearn.preprocessing import StandardScaler\n",
        "from sklearn.compose import ColumnTransformer"
      ]
    },
    {
      "cell_type": "code",
      "execution_count": null,
      "metadata": {
        "id": "ObbhNRgSfu6_"
      },
      "outputs": [],
      "source": [
        "import os\n",
        "import tarfile\n",
        "import urllib\n",
        "DOWNLOAD_ROOT = \"https://raw.githubusercontent.com/ageron/handson-ml2/master/\"\n",
        "HOUSING_PATH = os.path.join(\"datasets\", \"housing\")\n",
        "HOUSING_URL = DOWNLOAD_ROOT + \"datasets/housing/housing.tgz\"\n",
        "\n",
        "def fetch_housing_data(housing_url=HOUSING_URL, housing_path=HOUSING_PATH):\n",
        "    os.makedirs(housing_path, exist_ok=True)\n",
        "    tgz_path = os.path.join(housing_path, \"housing.tgz\")\n",
        "    urllib.request.urlretrieve(housing_url, tgz_path)\n",
        "    housing_tgz = tarfile.open(tgz_path)\n",
        "    housing_tgz.extractall(path=housing_path)\n",
        "    housing_tgz.close()\n",
        "    \n",
        "def load_housing_data(housing_path=HOUSING_PATH):\n",
        "   csv_path = os.path.join(housing_path, \"housing.csv\")\n",
        "   return pd.read_csv(csv_path)\n",
        "   \n",
        "fetch_housing_data()\n",
        "housing = load_housing_data()\n",
        "\n",
        "rooms_ix, bedrooms_ix, population_ix, household_ix = [\n",
        "    list(housing.columns).index(col)\n",
        "    for col in (\"total_rooms\", \"total_bedrooms\", \"population\", \"households\")]\n",
        "\n",
        "class CombinedAttributesAdder(BaseEstimator, TransformerMixin):\n",
        "    def __init__(self, add_bedrooms_per_room = True):\n",
        "        self.add_bedrooms_per_room = add_bedrooms_per_room\n",
        "    def fit(self, X, y=None):\n",
        "        return self  # nothing else to do\n",
        "    def transform(self, X, y=None):\n",
        "        rooms_per_household = X[:, rooms_ix] / X[:, household_ix]\n",
        "        population_per_household = X[:, population_ix] / X[:, household_ix]\n",
        "        if self.add_bedrooms_per_room:\n",
        "            bedrooms_per_room = X[:, bedrooms_ix] / X[:, rooms_ix]\n",
        "            return np.c_[X, rooms_per_household, population_per_household,\n",
        "                         bedrooms_per_room]\n",
        "        else:\n",
        "            return np.c_[X, rooms_per_household, population_per_household]\n",
        "        \n",
        "train_set, test_set = train_test_split(housing, test_size=0.2, random_state=42)\n",
        "housing = train_set.drop(\"median_house_value\", axis=1)\n",
        "housing_labels = train_set[\"median_house_value\"].copy()\n",
        "\n",
        "housing_num = housing.drop(\"ocean_proximity\", axis=1)\n",
        "num_attribs = list(housing_num)\n",
        "cat_attribs = [\"ocean_proximity\"]\n",
        "\n",
        "num_pipeline = Pipeline([\n",
        " ('imputer', SimpleImputer(strategy=\"median\")),\n",
        " ('attribs_adder', CombinedAttributesAdder()),\n",
        " ('std_scaler', StandardScaler())])\n",
        "\n",
        "full_pipeline = ColumnTransformer([\n",
        " (\"num\", num_pipeline, num_attribs),\n",
        " (\"cat\", OneHotEncoder(), cat_attribs)])\n",
        "\n",
        "housing_prepared = full_pipeline.fit_transform(housing)"
      ]
    },
    {
      "cell_type": "markdown",
      "metadata": {
        "id": "wa6vPfm6jxsF"
      },
      "source": [
        "# 1- Select and Train a Model\n",
        "\n",
        "# Let’s first train a LinearRegression model "
      ]
    },
    {
      "cell_type": "code",
      "execution_count": null,
      "metadata": {
        "id": "JCl0ZYDRjGz_",
        "colab": {
          "base_uri": "https://localhost:8080/"
        },
        "outputId": "fcc426e3-2b81-470f-a455-40e510670973"
      },
      "outputs": [
        {
          "output_type": "execute_result",
          "data": {
            "text/plain": [
              "LinearRegression()"
            ]
          },
          "metadata": {},
          "execution_count": 3
        }
      ],
      "source": [
        "# CODE HERE\n",
        "from sklearn.linear_model import LinearRegression\n",
        "lin_reg = LinearRegression()\n",
        "lin_reg.fit(housing_prepared,housing_labels)"
      ]
    },
    {
      "cell_type": "markdown",
      "metadata": {
        "id": "_nDxOY7GmTNc"
      },
      "source": [
        "# First try it out on a few instances from the training set:\n"
      ]
    },
    {
      "cell_type": "code",
      "execution_count": null,
      "metadata": {
        "id": "7Lx7VQm7pwSQ"
      },
      "outputs": [],
      "source": [
        "housing_preparedDf = pd.DataFrame(housing_prepared)\n",
        "some_data = housing_preparedDf.iloc[:5]\n",
        "some_labels = housing_labels.iloc[:5]"
      ]
    },
    {
      "cell_type": "code",
      "execution_count": null,
      "metadata": {
        "id": "BU-ynaaIpYHO",
        "colab": {
          "base_uri": "https://localhost:8080/"
        },
        "outputId": "c644f24f-6645-4bb6-8adc-6ce85b953b13"
      },
      "outputs": [
        {
          "output_type": "execute_result",
          "data": {
            "text/plain": [
              "array([181746.54359616, 290558.74973505, 244957.50017771, 146498.51061398,\n",
              "       163230.42393939])"
            ]
          },
          "metadata": {},
          "execution_count": 5
        }
      ],
      "source": [
        "# CODE HERE\n",
        "housing_predictions = lin_reg.predict(some_data)\n",
        "housing_predictions"
      ]
    },
    {
      "cell_type": "markdown",
      "metadata": {
        "id": "QjmwxoU-qFnb"
      },
      "source": [
        "# measure this regression model’s RMSE on the whole training set \n",
        "* using Scikit-Learn’s mean_squared_error() function:"
      ]
    },
    {
      "cell_type": "code",
      "execution_count": null,
      "metadata": {
        "id": "rczx22dFqRMc"
      },
      "outputs": [],
      "source": [
        "from sklearn.metrics import mean_squared_error"
      ]
    },
    {
      "cell_type": "code",
      "execution_count": null,
      "metadata": {
        "id": "aCYZh9ExqWMJ",
        "colab": {
          "base_uri": "https://localhost:8080/"
        },
        "outputId": "d29399f7-4bd3-4e74-d590-99a5732e8879"
      },
      "outputs": [
        {
          "output_type": "execute_result",
          "data": {
            "text/plain": [
              "67593.20745775253"
            ]
          },
          "metadata": {},
          "execution_count": 7
        }
      ],
      "source": [
        "# CODE HERE\n",
        "lin_mse = mean_squared_error(housing_labels, lin_reg.predict(housing_prepared))\n",
        "lin_rmse = np.sqrt(lin_mse)\n",
        "lin_rmse"
      ]
    },
    {
      "cell_type": "markdown",
      "metadata": {
        "id": "RLsKfuQpcfyx"
      },
      "source": [
        "# judge on the RMSE result for this model \n",
        "write down your answar "
      ]
    },
    {
      "cell_type": "code",
      "source": [
        "lin_rmse / train_set[\"median_house_value\"].mean()"
      ],
      "metadata": {
        "colab": {
          "base_uri": "https://localhost:8080/"
        },
        "id": "JM3yNAa-gUK6",
        "outputId": "0bd5e1a6-4d25-4f7b-947a-f540b4dec6a2"
      },
      "execution_count": null,
      "outputs": [
        {
          "output_type": "execute_result",
          "data": {
            "text/plain": [
              "0.32623039827101735"
            ]
          },
          "metadata": {},
          "execution_count": 8
        }
      ]
    },
    {
      "cell_type": "markdown",
      "metadata": {
        "id": "nnBVcR-MeFqa"
      },
      "source": [
        "your answer goes here:\n",
        "The error rate is about 32.62%, which seems bad."
      ]
    },
    {
      "cell_type": "markdown",
      "metadata": {
        "id": "vImNak3CqqFo"
      },
      "source": [
        "# Let’s train a Decision Tree Regressor model \n",
        "## more powerful model"
      ]
    },
    {
      "cell_type": "code",
      "execution_count": null,
      "metadata": {
        "id": "8syfCBveqY2q"
      },
      "outputs": [],
      "source": [
        "from sklearn.tree import DecisionTreeRegressor "
      ]
    },
    {
      "cell_type": "code",
      "execution_count": null,
      "metadata": {
        "id": "vrUPZzBhq-do",
        "colab": {
          "base_uri": "https://localhost:8080/"
        },
        "outputId": "c6200735-3685-4ed3-c77d-c817e098ad58"
      },
      "outputs": [
        {
          "output_type": "execute_result",
          "data": {
            "text/plain": [
              "DecisionTreeRegressor()"
            ]
          },
          "metadata": {},
          "execution_count": 10
        }
      ],
      "source": [
        "# CODE HERE\n",
        "tree_reg = DecisionTreeRegressor()\n",
        "tree_reg.fit(housing_prepared,housing_labels)"
      ]
    },
    {
      "cell_type": "markdown",
      "metadata": {
        "id": "kRhxYj0Aq9op"
      },
      "source": [
        "# Now evaluate the model on the training set \n",
        "* using Scikit-Learn’s mean_squared_error() function:"
      ]
    },
    {
      "cell_type": "code",
      "execution_count": null,
      "metadata": {
        "id": "DYCxUSCkrNIY",
        "colab": {
          "base_uri": "https://localhost:8080/"
        },
        "outputId": "b7e1b891-7101-4b67-c92d-7817658bd62c"
      },
      "outputs": [
        {
          "output_type": "execute_result",
          "data": {
            "text/plain": [
              "0.0"
            ]
          },
          "metadata": {},
          "execution_count": 11
        }
      ],
      "source": [
        "# CODE HERE\n",
        "housing_predictions = tree_reg.predict(housing_prepared)\n",
        "tree_mse = mean_squared_error(housing_labels,housing_predictions)\n",
        "tree_rmse = np.sqrt(tree_mse)\n",
        "tree_rmse"
      ]
    },
    {
      "cell_type": "markdown",
      "metadata": {
        "id": "CSxXI9b8iZPs"
      },
      "source": [
        "# Explaine this result \n",
        "write down your answar"
      ]
    },
    {
      "cell_type": "markdown",
      "metadata": {
        "id": "BVSMQ7kbiZSi"
      },
      "source": [
        "your answer goes here: The error rate is 0.0%, which means that the model overfits the data."
      ]
    },
    {
      "cell_type": "markdown",
      "metadata": {
        "id": "rj7b4zSPrdyH"
      },
      "source": [
        "# Evaluation Using Cross-Validation\n",
        "\n",
        "1-split the training set into 10 distinct subsets then train and evaluate the Decision Tree model"
      ]
    },
    {
      "cell_type": "code",
      "execution_count": null,
      "metadata": {
        "id": "JmNrgsBrwIe3"
      },
      "outputs": [],
      "source": [
        "from sklearn.model_selection import cross_val_score"
      ]
    },
    {
      "cell_type": "code",
      "execution_count": null,
      "metadata": {
        "id": "yXNPsWjcwMd_"
      },
      "outputs": [],
      "source": [
        "# CODE HERE\n",
        "scores = cross_val_score(tree_reg, housing_prepared, housing_labels, scoring =\"neg_mean_squared_error\",cv = 10)\n",
        "tree_rmse_scores = np.sqrt(-scores)"
      ]
    },
    {
      "cell_type": "markdown",
      "metadata": {
        "id": "KqReIY3urLP8"
      },
      "source": [
        "2- display the resultant scores and calculate its Mean and Standard deviation"
      ]
    },
    {
      "cell_type": "code",
      "execution_count": null,
      "metadata": {
        "id": "1g8jIq-6raVF",
        "colab": {
          "base_uri": "https://localhost:8080/"
        },
        "outputId": "8499d0f8-a21f-4d75-e016-184e2c86cc81"
      },
      "outputs": [
        {
          "output_type": "stream",
          "name": "stdout",
          "text": [
            "Scores:  [63598.89981676 71345.10874655 68467.07801695 70580.31180564\n",
            " 73006.58913732 66795.76957318 67034.34613325 69738.03923491\n",
            " 66536.45224391 70063.27361431]\n",
            "Mean:  68716.5868322773\n",
            "Standard Deviation:  2630.001575675359\n"
          ]
        }
      ],
      "source": [
        "# CODE HERE\n",
        "print(\"Scores: \", tree_rmse_scores)\n",
        "print(\"Mean: \", tree_rmse_scores.mean())\n",
        "print(\"Standard Deviation: \", tree_rmse_scores.std())"
      ]
    },
    {
      "cell_type": "markdown",
      "metadata": {
        "id": "G6paGk_hsGGY"
      },
      "source": [
        "3-repaet the same steps to compute the same scores for the Linear Regression  model \n",
        "\n",
        "*notice the difference between the results of the two models*"
      ]
    },
    {
      "cell_type": "code",
      "execution_count": null,
      "metadata": {
        "id": "ol3C6DmusWfx",
        "colab": {
          "base_uri": "https://localhost:8080/"
        },
        "outputId": "fa14e438-4fce-4a2e-ec80-9b19fcef1503"
      },
      "outputs": [
        {
          "output_type": "stream",
          "name": "stdout",
          "text": [
            "Scores:  [65000.67382615 70960.56056304 67122.63935124 66089.63153865\n",
            " 68402.54686442 65266.34735288 65218.78174481 68525.46981754\n",
            " 72739.87555996 68957.34111906]\n",
            "Mean:  67828.38677377408\n",
            "Standard Deviation:  2468.091395065227\n"
          ]
        }
      ],
      "source": [
        "# CODE HERE\n",
        "scores = cross_val_score(lin_reg, housing_prepared, housing_labels, scoring =\"neg_mean_squared_error\",cv = 10)\n",
        "lin_rmse_scores = np.sqrt(-scores)\n",
        "print(\"Scores: \", lin_rmse_scores)\n",
        "print(\"Mean: \", lin_rmse_scores.mean())\n",
        "print(\"Standard Deviation: \", lin_rmse_scores.std())"
      ]
    },
    {
      "cell_type": "markdown",
      "metadata": {
        "id": "fdQ85uTEtDy1"
      },
      "source": [
        "## Let’s train one last model the RandomForestRegressor."
      ]
    },
    {
      "cell_type": "code",
      "execution_count": null,
      "metadata": {
        "id": "O1PPFq5TtdDP",
        "colab": {
          "base_uri": "https://localhost:8080/"
        },
        "outputId": "cc8c1684-0c99-4938-f3a8-9f8455005d39"
      },
      "outputs": [
        {
          "output_type": "execute_result",
          "data": {
            "text/plain": [
              "RandomForestRegressor()"
            ]
          },
          "metadata": {},
          "execution_count": 16
        }
      ],
      "source": [
        "# CODE HERE\n",
        "from sklearn.ensemble import RandomForestRegressor\n",
        "forest_reg = RandomForestRegressor()\n",
        "forest_reg.fit(housing_prepared, housing_labels)"
      ]
    },
    {
      "cell_type": "markdown",
      "metadata": {
        "id": "gSxaBthCtw93"
      },
      "source": [
        "# repeat the same steps to compute the same scores its Mean and Standard deviation for the Random Forest model"
      ]
    },
    {
      "cell_type": "code",
      "execution_count": null,
      "metadata": {
        "id": "AAc2MOQwt2lC",
        "colab": {
          "base_uri": "https://localhost:8080/"
        },
        "outputId": "df6911af-e014-4986-be5a-0f387c97b176"
      },
      "outputs": [
        {
          "output_type": "stream",
          "name": "stdout",
          "text": [
            "Scores:  [47127.20162099 51724.30794266 49995.224645   51728.73208814\n",
            " 52609.07980417 46932.61629045 47708.88703279 50989.82349064\n",
            " 49434.74703529 50241.31170665]\n",
            "Mean:  49849.193165677825\n",
            "Standard Deviation:  1918.597156843655\n"
          ]
        }
      ],
      "source": [
        "# CODE HERE\n",
        "scores = cross_val_score(forest_reg, housing_prepared, housing_labels, scoring =\"neg_mean_squared_error\",cv = 10)\n",
        "forest_rmse_scores = np.sqrt(-scores)\n",
        "print(\"Scores: \", forest_rmse_scores)\n",
        "print(\"Mean: \", forest_rmse_scores.mean())\n",
        "print(\"Standard Deviation: \", forest_rmse_scores.std())"
      ]
    },
    {
      "cell_type": "markdown",
      "metadata": {
        "id": "Vn2u9DOxvE5S"
      },
      "source": [
        "# Save every model you experiment with \n",
        "*using the joblib library*"
      ]
    },
    {
      "cell_type": "code",
      "execution_count": null,
      "metadata": {
        "id": "mWyIi3mtva85",
        "colab": {
          "base_uri": "https://localhost:8080/"
        },
        "outputId": "35d22028-85f2-48a3-aedc-5ceff1062ef9"
      },
      "outputs": [
        {
          "output_type": "execute_result",
          "data": {
            "text/plain": [
              "['finalized_forest_model.sav']"
            ]
          },
          "metadata": {},
          "execution_count": 18
        }
      ],
      "source": [
        "# CODE HERE\n",
        "import joblib\n",
        "lin_filename = 'finalized_lin_model.sav'\n",
        "tree_filename = 'finalized_tree_model.sav'\n",
        "forest_filename = 'finalized_forest_model.sav'\n",
        "joblib.dump(lin_reg, lin_filename)\n",
        "joblib.dump(tree_reg, tree_filename)\n",
        "joblib.dump(forest_reg, forest_filename)"
      ]
    },
    {
      "cell_type": "markdown",
      "metadata": {
        "id": "gIC6O-h0wOBJ"
      },
      "source": [
        "## now you have a shortlist of promising models. You now need to\n",
        "## fine-tune them!\n",
        "# Fine-Tune Your Model\n",
        "\n",
        "## 1- Grid Search\n",
        "## evaluate all the possible combinations of hyperparameter values for the RandomForestRegressor \n",
        "*It may take a long time*"
      ]
    },
    {
      "cell_type": "code",
      "execution_count": null,
      "metadata": {
        "id": "Y8Wqd-Pix3Sm"
      },
      "outputs": [],
      "source": [
        "from sklearn.model_selection import GridSearchCV"
      ]
    },
    {
      "cell_type": "code",
      "execution_count": null,
      "metadata": {
        "id": "j-zNvGLhyGGb",
        "colab": {
          "base_uri": "https://localhost:8080/"
        },
        "outputId": "b8865fed-ac8a-43a9-b493-f74143aec8b8"
      },
      "outputs": [
        {
          "output_type": "execute_result",
          "data": {
            "text/plain": [
              "GridSearchCV(cv=10, estimator=RandomForestRegressor(),\n",
              "             param_grid=[{'max_features': [2, 4, 6, 8],\n",
              "                          'n_estimators': [3, 10, 30]},\n",
              "                         {'bootstrap': [False], 'max_features': [2, 3, 4],\n",
              "                          'n_estimators': [3, 10]}],\n",
              "             return_train_score=True, scoring='neg_mean_squared_error')"
            ]
          },
          "metadata": {},
          "execution_count": 20
        }
      ],
      "source": [
        "# CODE HERE\n",
        "param_grid = [{'n_estimators': [3,10,30], 'max_features':[2,4,6,8]},{'bootstrap':[False], 'max_features':[2,3,4],'n_estimators':[3,10]}]\n",
        "grid_search = GridSearchCV(forest_reg,param_grid,cv = 10, scoring = 'neg_mean_squared_error',return_train_score = True)\n",
        "grid_search.fit(housing_prepared, housing_labels)"
      ]
    },
    {
      "cell_type": "markdown",
      "metadata": {
        "id": "EhYbsAnE0j75"
      },
      "source": [
        "with the evaluation scores"
      ]
    },
    {
      "cell_type": "code",
      "execution_count": null,
      "metadata": {
        "id": "qhDCrx0Y0ocN",
        "colab": {
          "base_uri": "https://localhost:8080/"
        },
        "outputId": "2ff4b52c-5227-41c5-ecf3-16bf45a5d14a"
      },
      "outputs": [
        {
          "output_type": "stream",
          "name": "stdout",
          "text": [
            "Best Params:  {'max_features': 8, 'n_estimators': 30}\n",
            "Best Estimator:  RandomForestRegressor(max_features=8, n_estimators=30)\n",
            "63323.62119888364 {'max_features': 2, 'n_estimators': 3}\n",
            "54204.08370491123 {'max_features': 2, 'n_estimators': 10}\n",
            "51795.59122645668 {'max_features': 2, 'n_estimators': 30}\n",
            "59196.05461954129 {'max_features': 4, 'n_estimators': 3}\n",
            "52380.65644784291 {'max_features': 4, 'n_estimators': 10}\n",
            "49840.440631412326 {'max_features': 4, 'n_estimators': 30}\n",
            "58950.72607368776 {'max_features': 6, 'n_estimators': 3}\n",
            "51660.98762340036 {'max_features': 6, 'n_estimators': 10}\n",
            "49385.45878546581 {'max_features': 6, 'n_estimators': 30}\n",
            "57845.09981700682 {'max_features': 8, 'n_estimators': 3}\n",
            "51584.29179725329 {'max_features': 8, 'n_estimators': 10}\n",
            "49354.32773053882 {'max_features': 8, 'n_estimators': 30}\n",
            "61822.51786490256 {'bootstrap': False, 'max_features': 2, 'n_estimators': 3}\n",
            "53109.32646270088 {'bootstrap': False, 'max_features': 2, 'n_estimators': 10}\n",
            "59155.588401806366 {'bootstrap': False, 'max_features': 3, 'n_estimators': 3}\n",
            "51739.58064652811 {'bootstrap': False, 'max_features': 3, 'n_estimators': 10}\n",
            "57172.16876033239 {'bootstrap': False, 'max_features': 4, 'n_estimators': 3}\n",
            "51235.54668017099 {'bootstrap': False, 'max_features': 4, 'n_estimators': 10}\n"
          ]
        }
      ],
      "source": [
        "# CODE HERE\n",
        "print(\"Best Params: \", grid_search.best_params_)\n",
        "print(\"Best Estimator: \", grid_search.best_estimator_)\n",
        "cvres = grid_search.cv_results_\n",
        "for mean_score, params in zip(cvres[\"mean_test_score\"],cvres[\"params\"]):\n",
        "  print(np.sqrt(-mean_score), params)"
      ]
    },
    {
      "cell_type": "markdown",
      "metadata": {
        "id": "pjRCrlqEyH1A"
      },
      "source": [
        "# Analyze the Best Models and Their Errors\n",
        "1-indicate the relative importance of each attribute"
      ]
    },
    {
      "cell_type": "code",
      "execution_count": null,
      "metadata": {
        "id": "y2MkCD1Byh9F",
        "colab": {
          "base_uri": "https://localhost:8080/"
        },
        "outputId": "d13f9fbe-a3c1-4e9e-89ac-080815d21f59"
      },
      "outputs": [
        {
          "output_type": "execute_result",
          "data": {
            "text/plain": [
              "array([6.78190323e-02, 6.68030759e-02, 4.13943816e-02, 1.50885719e-02,\n",
              "       1.41124065e-02, 1.40838814e-02, 1.34935929e-02, 3.92085491e-01,\n",
              "       3.78756927e-02, 1.14555626e-01, 6.92169381e-02, 1.01587976e-02,\n",
              "       1.37498650e-01, 2.52796133e-04, 2.37021838e-03, 3.19084738e-03])"
            ]
          },
          "metadata": {},
          "execution_count": 22
        }
      ],
      "source": [
        "# CODE HERE\n",
        "grid_search.best_estimator_.feature_importances_"
      ]
    },
    {
      "cell_type": "markdown",
      "metadata": {
        "id": "b01L7mUm1xTV"
      },
      "source": [
        "2-display these importance scores next to their corresponding attribute names:"
      ]
    },
    {
      "cell_type": "code",
      "execution_count": null,
      "metadata": {
        "id": "dau43zXt14i7",
        "colab": {
          "base_uri": "https://localhost:8080/"
        },
        "outputId": "9003d509-e60f-46ee-aa6d-ffc0859aa453"
      },
      "outputs": [
        {
          "output_type": "execute_result",
          "data": {
            "text/plain": [
              "[(0.3920854907920388, 'median_income'),\n",
              " (0.11455562641035756, 'bedroom_per_room'),\n",
              " (0.06921693812148755, 'rooms_per_household'),\n",
              " (0.0678190323249126, 'longitude'),\n",
              " (0.06680307590280174, 'latitude'),\n",
              " (0.041394381603859894, 'housing_median_age'),\n",
              " (0.03787569273996867, 'population_per_household'),\n",
              " (0.01508857194426263, 'total_rooms'),\n",
              " (0.014112406490258012, 'total_bedrooms'),\n",
              " (0.01408388137320563, 'population'),\n",
              " (0.013493592873146944, 'households'),\n",
              " (0.010158797621212416, 'ocean_proximity')]"
            ]
          },
          "metadata": {},
          "execution_count": 23
        }
      ],
      "source": [
        "# CODE HERE\n",
        "extra_attribs = [\"population_per_household\",\"bedroom_per_room\",\"rooms_per_household\"]\n",
        "num_attribs = list(housing_num.columns)\n",
        "attributes = num_attribs + extra_attribs + cat_attribs\n",
        "sorted(zip(grid_search.best_estimator_.feature_importances_,attributes),reverse = True)"
      ]
    },
    {
      "cell_type": "markdown",
      "metadata": {
        "id": "esOPiD6Pyice"
      },
      "source": [
        "## Now is the time to evaluate the final model on the test set.\n",
        "# Evaluate Your System on the Test Set\n",
        "\n",
        "1-get the predictors and the labels from your test set"
      ]
    },
    {
      "cell_type": "code",
      "execution_count": null,
      "metadata": {
        "id": "ZrmGwOEyykad"
      },
      "outputs": [],
      "source": [
        "# CODE HERE\n",
        "Y_test = test_set.drop(\"median_house_value\", axis=1)\n",
        "Y_test_labels = test_set[\"median_house_value\"].copy()"
      ]
    },
    {
      "cell_type": "markdown",
      "metadata": {
        "id": "lhkKu23G2yNd"
      },
      "source": [
        "2-run your full_pipeline to transform the data"
      ]
    },
    {
      "cell_type": "code",
      "execution_count": null,
      "metadata": {
        "id": "VBfW1WG823TE"
      },
      "outputs": [],
      "source": [
        "# CODE HERE\n",
        "Y_test_prepared = full_pipeline.transform(Y_test)"
      ]
    },
    {
      "cell_type": "markdown",
      "metadata": {
        "id": "hNVnMSJy28xt"
      },
      "source": [
        "3-evaluate the final model on the test set"
      ]
    },
    {
      "cell_type": "code",
      "execution_count": null,
      "metadata": {
        "id": "HrcgAUoy2_tc",
        "colab": {
          "base_uri": "https://localhost:8080/"
        },
        "outputId": "da692d0d-046d-477d-9495-6b9c8ca219d6"
      },
      "outputs": [
        {
          "output_type": "execute_result",
          "data": {
            "text/plain": [
              "49546.2552120478"
            ]
          },
          "metadata": {},
          "execution_count": 26
        }
      ],
      "source": [
        "# CODE HERE\n",
        "final_model = grid_search.best_estimator_\n",
        "final_predictions = final_model.predict(Y_test_prepared)\n",
        "final_mse = mean_squared_error(Y_test_labels, final_predictions)\n",
        "final_rmse = np.sqrt(final_mse)\n",
        "final_rmse"
      ]
    },
    {
      "cell_type": "markdown",
      "metadata": {
        "id": "wYBxgnsx3Ipr"
      },
      "source": [
        "# compute a 95% confidence interval for the generalization error \n",
        "*using scipy.stats.t.interval():*"
      ]
    },
    {
      "cell_type": "code",
      "execution_count": null,
      "metadata": {
        "id": "ngWpgPrE3NaS"
      },
      "outputs": [],
      "source": [
        "from scipy import stats"
      ]
    },
    {
      "cell_type": "code",
      "execution_count": null,
      "metadata": {
        "id": "6RFaMou83WBY",
        "colab": {
          "base_uri": "https://localhost:8080/"
        },
        "outputId": "0dcdc6bc-bd5a-492c-846f-7dd7b92e3c35"
      },
      "outputs": [
        {
          "output_type": "execute_result",
          "data": {
            "text/plain": [
              "(-213.82347314345293, 2809.2594227558557)"
            ]
          },
          "metadata": {},
          "execution_count": 28
        }
      ],
      "source": [
        "# CODE HERE\n",
        "squared_errors = (final_predictions - Y_test_labels) ** 2\n",
        "stats.t.interval(.95, len(squared_errors) - 1, loc=squared_errors.mean(), scale=stats.sem(squared_errors))"
      ]
    },
    {
      "cell_type": "markdown",
      "metadata": {
        "id": "fTsy6N8Uytpo"
      },
      "source": [
        "# Great Job!\n",
        "# #shAI_Club"
      ]
    }
  ],
  "metadata": {
    "colab": {
      "provenance": [],
      "collapsed_sections": [],
      "include_colab_link": true
    },
    "kernelspec": {
      "display_name": "Python 3",
      "language": "python",
      "name": "python3"
    },
    "language_info": {
      "codemirror_mode": {
        "name": "ipython",
        "version": 3
      },
      "file_extension": ".py",
      "mimetype": "text/x-python",
      "name": "python",
      "nbconvert_exporter": "python",
      "pygments_lexer": "ipython3",
      "version": "3.7.9"
    }
  },
  "nbformat": 4,
  "nbformat_minor": 0
}